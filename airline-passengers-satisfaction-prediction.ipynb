{
 "cells": [
  {
   "cell_type": "code",
   "execution_count": 1,
   "id": "b2af5b45",
   "metadata": {
    "_cell_guid": "b1076dfc-b9ad-4769-8c92-a6c4dae69d19",
    "_uuid": "8f2839f25d086af736a60e9eeb907d3b93b6e0e5",
    "execution": {
     "iopub.execute_input": "2023-06-15T07:29:13.237108Z",
     "iopub.status.busy": "2023-06-15T07:29:13.236199Z",
     "iopub.status.idle": "2023-06-15T07:29:15.713132Z",
     "shell.execute_reply": "2023-06-15T07:29:15.711683Z"
    },
    "papermill": {
     "duration": 2.495182,
     "end_time": "2023-06-15T07:29:15.716055",
     "exception": false,
     "start_time": "2023-06-15T07:29:13.220873",
     "status": "completed"
    },
    "tags": []
   },
   "outputs": [
    {
     "name": "stdout",
     "output_type": "stream",
     "text": [
      "/kaggle/input/aviakompaniya/sample_submission.csv\n",
      "/kaggle/input/aviakompaniya/train_dataset.csv\n",
      "/kaggle/input/aviakompaniya/test_dataset.csv\n"
     ]
    }
   ],
   "source": [
    "# This Python 3 environment comes with many helpful analytics libraries installed\n",
    "# It is defined by the kaggle/python Docker image: https://github.com/kaggle/docker-python\n",
    "# For example, here's several helpful packages to load\n",
    "\n",
    "import numpy as np # linear algebra\n",
    "import pandas as pd # data processing, CSV file I/O (e.g. pd.read_csv)\n",
    "import matplotlib.pyplot as plt\n",
    "import seaborn as sns\n",
    "\n",
    "from sklearn.preprocessing import StandardScaler\n",
    "from sklearn.model_selection import train_test_split\n",
    "\n",
    "from sklearn.linear_model import LogisticRegression\n",
    "from sklearn.tree import DecisionTreeClassifier, plot_tree\n",
    "from sklearn.ensemble import RandomForestClassifier\n",
    "from sklearn.svm import SVC\n",
    "from xgboost import XGBClassifier\n",
    "\n",
    "from sklearn.pipeline import Pipeline\n",
    "from sklearn.compose import ColumnTransformer\n",
    "from sklearn.preprocessing import OrdinalEncoder, OneHotEncoder\n",
    "from sklearn import metrics\n",
    "from sklearn.metrics import classification_report, confusion_matrix\n",
    "from sklearn.metrics import accuracy_score\n",
    "\n",
    "\n",
    "# Input data files are available in the read-only \"../input/\" directory\n",
    "# For example, running this (by clicking run or pressing Shift+Enter) will list all files under the input directory\n",
    "\n",
    "import os\n",
    "for dirname, _, filenames in os.walk('/kaggle/input'):\n",
    "    for filename in filenames:\n",
    "        print(os.path.join(dirname, filename))\n",
    "\n",
    "# You can write up to 20GB to the current directory (/kaggle/working/) that gets preserved as output when you create a version using \"Save & Run All\" \n",
    "# You can also write temporary files to /kaggle/temp/, but they won't be saved outside of the current session"
   ]
  },
  {
   "cell_type": "code",
   "execution_count": 2,
   "id": "54303d2b",
   "metadata": {
    "execution": {
     "iopub.execute_input": "2023-06-15T07:29:15.739539Z",
     "iopub.status.busy": "2023-06-15T07:29:15.739124Z",
     "iopub.status.idle": "2023-06-15T07:29:15.849476Z",
     "shell.execute_reply": "2023-06-15T07:29:15.848131Z"
    },
    "papermill": {
     "duration": 0.125097,
     "end_time": "2023-06-15T07:29:15.852269",
     "exception": false,
     "start_time": "2023-06-15T07:29:15.727172",
     "status": "completed"
    },
    "tags": []
   },
   "outputs": [],
   "source": [
    "train=pd.read_csv(\"/kaggle/input/aviakompaniya/train_dataset.csv\")\n",
    "test=pd.read_csv(\"/kaggle/input/aviakompaniya/test_dataset.csv\")\n",
    "submission=pd.read_csv(\"/kaggle/input/aviakompaniya/sample_submission.csv\")"
   ]
  },
  {
   "cell_type": "code",
   "execution_count": 3,
   "id": "879f1a48",
   "metadata": {
    "execution": {
     "iopub.execute_input": "2023-06-15T07:29:15.875912Z",
     "iopub.status.busy": "2023-06-15T07:29:15.875520Z",
     "iopub.status.idle": "2023-06-15T07:29:15.923423Z",
     "shell.execute_reply": "2023-06-15T07:29:15.922185Z"
    },
    "papermill": {
     "duration": 0.062799,
     "end_time": "2023-06-15T07:29:15.926078",
     "exception": false,
     "start_time": "2023-06-15T07:29:15.863279",
     "status": "completed"
    },
    "tags": []
   },
   "outputs": [
    {
     "data": {
      "text/html": [
       "<div>\n",
       "<style scoped>\n",
       "    .dataframe tbody tr th:only-of-type {\n",
       "        vertical-align: middle;\n",
       "    }\n",
       "\n",
       "    .dataframe tbody tr th {\n",
       "        vertical-align: top;\n",
       "    }\n",
       "\n",
       "    .dataframe thead th {\n",
       "        text-align: right;\n",
       "    }\n",
       "</style>\n",
       "<table border=\"1\" class=\"dataframe\">\n",
       "  <thead>\n",
       "    <tr style=\"text-align: right;\">\n",
       "      <th></th>\n",
       "      <th>id</th>\n",
       "      <th>Gender</th>\n",
       "      <th>Customer Type</th>\n",
       "      <th>Age</th>\n",
       "      <th>Type of Travel</th>\n",
       "      <th>Class</th>\n",
       "      <th>Flight Distance</th>\n",
       "      <th>Inflight wifi service</th>\n",
       "      <th>Departure/Arrival time convenient</th>\n",
       "      <th>Ease of Online booking</th>\n",
       "      <th>...</th>\n",
       "      <th>Inflight entertainment</th>\n",
       "      <th>On-board service</th>\n",
       "      <th>Leg room service</th>\n",
       "      <th>Baggage handling</th>\n",
       "      <th>Checkin service</th>\n",
       "      <th>Inflight service</th>\n",
       "      <th>Cleanliness</th>\n",
       "      <th>Departure Delay in Minutes</th>\n",
       "      <th>Arrival Delay in Minutes</th>\n",
       "      <th>satisfaction</th>\n",
       "    </tr>\n",
       "  </thead>\n",
       "  <tbody>\n",
       "    <tr>\n",
       "      <th>0</th>\n",
       "      <td>1</td>\n",
       "      <td>Male</td>\n",
       "      <td>disloyal Customer</td>\n",
       "      <td>33</td>\n",
       "      <td>Business travel</td>\n",
       "      <td>Eco</td>\n",
       "      <td>571</td>\n",
       "      <td>2</td>\n",
       "      <td>3</td>\n",
       "      <td>2</td>\n",
       "      <td>...</td>\n",
       "      <td>4</td>\n",
       "      <td>3</td>\n",
       "      <td>1</td>\n",
       "      <td>3</td>\n",
       "      <td>4</td>\n",
       "      <td>3</td>\n",
       "      <td>4</td>\n",
       "      <td>10</td>\n",
       "      <td>3.0</td>\n",
       "      <td>0</td>\n",
       "    </tr>\n",
       "    <tr>\n",
       "      <th>1</th>\n",
       "      <td>2</td>\n",
       "      <td>Female</td>\n",
       "      <td>Loyal Customer</td>\n",
       "      <td>49</td>\n",
       "      <td>Business travel</td>\n",
       "      <td>Business</td>\n",
       "      <td>1431</td>\n",
       "      <td>4</td>\n",
       "      <td>1</td>\n",
       "      <td>4</td>\n",
       "      <td>...</td>\n",
       "      <td>5</td>\n",
       "      <td>5</td>\n",
       "      <td>5</td>\n",
       "      <td>5</td>\n",
       "      <td>3</td>\n",
       "      <td>5</td>\n",
       "      <td>3</td>\n",
       "      <td>0</td>\n",
       "      <td>0.0</td>\n",
       "      <td>1</td>\n",
       "    </tr>\n",
       "    <tr>\n",
       "      <th>2</th>\n",
       "      <td>3</td>\n",
       "      <td>Female</td>\n",
       "      <td>Loyal Customer</td>\n",
       "      <td>43</td>\n",
       "      <td>Business travel</td>\n",
       "      <td>Eco</td>\n",
       "      <td>867</td>\n",
       "      <td>1</td>\n",
       "      <td>4</td>\n",
       "      <td>4</td>\n",
       "      <td>...</td>\n",
       "      <td>1</td>\n",
       "      <td>1</td>\n",
       "      <td>1</td>\n",
       "      <td>1</td>\n",
       "      <td>1</td>\n",
       "      <td>1</td>\n",
       "      <td>2</td>\n",
       "      <td>0</td>\n",
       "      <td>18.0</td>\n",
       "      <td>0</td>\n",
       "    </tr>\n",
       "    <tr>\n",
       "      <th>3</th>\n",
       "      <td>4</td>\n",
       "      <td>Female</td>\n",
       "      <td>Loyal Customer</td>\n",
       "      <td>27</td>\n",
       "      <td>Business travel</td>\n",
       "      <td>Business</td>\n",
       "      <td>1550</td>\n",
       "      <td>3</td>\n",
       "      <td>3</td>\n",
       "      <td>3</td>\n",
       "      <td>...</td>\n",
       "      <td>2</td>\n",
       "      <td>4</td>\n",
       "      <td>4</td>\n",
       "      <td>5</td>\n",
       "      <td>5</td>\n",
       "      <td>4</td>\n",
       "      <td>2</td>\n",
       "      <td>0</td>\n",
       "      <td>0.0</td>\n",
       "      <td>1</td>\n",
       "    </tr>\n",
       "    <tr>\n",
       "      <th>4</th>\n",
       "      <td>5</td>\n",
       "      <td>Male</td>\n",
       "      <td>Loyal Customer</td>\n",
       "      <td>11</td>\n",
       "      <td>Personal Travel</td>\n",
       "      <td>Eco</td>\n",
       "      <td>526</td>\n",
       "      <td>3</td>\n",
       "      <td>4</td>\n",
       "      <td>3</td>\n",
       "      <td>...</td>\n",
       "      <td>4</td>\n",
       "      <td>5</td>\n",
       "      <td>2</td>\n",
       "      <td>5</td>\n",
       "      <td>3</td>\n",
       "      <td>5</td>\n",
       "      <td>4</td>\n",
       "      <td>0</td>\n",
       "      <td>10.0</td>\n",
       "      <td>0</td>\n",
       "    </tr>\n",
       "  </tbody>\n",
       "</table>\n",
       "<p>5 rows × 24 columns</p>\n",
       "</div>"
      ],
      "text/plain": [
       "   id  Gender      Customer Type  Age   Type of Travel     Class  \\\n",
       "0   1    Male  disloyal Customer   33  Business travel       Eco   \n",
       "1   2  Female     Loyal Customer   49  Business travel  Business   \n",
       "2   3  Female     Loyal Customer   43  Business travel       Eco   \n",
       "3   4  Female     Loyal Customer   27  Business travel  Business   \n",
       "4   5    Male     Loyal Customer   11  Personal Travel       Eco   \n",
       "\n",
       "   Flight Distance  Inflight wifi service  Departure/Arrival time convenient  \\\n",
       "0              571                      2                                  3   \n",
       "1             1431                      4                                  1   \n",
       "2              867                      1                                  4   \n",
       "3             1550                      3                                  3   \n",
       "4              526                      3                                  4   \n",
       "\n",
       "   Ease of Online booking  ...  Inflight entertainment  On-board service  \\\n",
       "0                       2  ...                       4                 3   \n",
       "1                       4  ...                       5                 5   \n",
       "2                       4  ...                       1                 1   \n",
       "3                       3  ...                       2                 4   \n",
       "4                       3  ...                       4                 5   \n",
       "\n",
       "   Leg room service  Baggage handling  Checkin service  Inflight service  \\\n",
       "0                 1                 3                4                 3   \n",
       "1                 5                 5                3                 5   \n",
       "2                 1                 1                1                 1   \n",
       "3                 4                 5                5                 4   \n",
       "4                 2                 5                3                 5   \n",
       "\n",
       "   Cleanliness  Departure Delay in Minutes  Arrival Delay in Minutes  \\\n",
       "0            4                          10                       3.0   \n",
       "1            3                           0                       0.0   \n",
       "2            2                           0                      18.0   \n",
       "3            2                           0                       0.0   \n",
       "4            4                           0                      10.0   \n",
       "\n",
       "   satisfaction  \n",
       "0             0  \n",
       "1             1  \n",
       "2             0  \n",
       "3             1  \n",
       "4             0  \n",
       "\n",
       "[5 rows x 24 columns]"
      ]
     },
     "execution_count": 3,
     "metadata": {},
     "output_type": "execute_result"
    }
   ],
   "source": [
    "train.head()"
   ]
  },
  {
   "cell_type": "code",
   "execution_count": 4,
   "id": "63777ad9",
   "metadata": {
    "execution": {
     "iopub.execute_input": "2023-06-15T07:29:15.950649Z",
     "iopub.status.busy": "2023-06-15T07:29:15.950219Z",
     "iopub.status.idle": "2023-06-15T07:29:15.990798Z",
     "shell.execute_reply": "2023-06-15T07:29:15.989270Z"
    },
    "papermill": {
     "duration": 0.055924,
     "end_time": "2023-06-15T07:29:15.993526",
     "exception": false,
     "start_time": "2023-06-15T07:29:15.937602",
     "status": "completed"
    },
    "tags": []
   },
   "outputs": [
    {
     "name": "stdout",
     "output_type": "stream",
     "text": [
      "<class 'pandas.core.frame.DataFrame'>\n",
      "RangeIndex: 10000 entries, 0 to 9999\n",
      "Data columns (total 24 columns):\n",
      " #   Column                             Non-Null Count  Dtype  \n",
      "---  ------                             --------------  -----  \n",
      " 0   id                                 10000 non-null  int64  \n",
      " 1   Gender                             10000 non-null  object \n",
      " 2   Customer Type                      10000 non-null  object \n",
      " 3   Age                                10000 non-null  int64  \n",
      " 4   Type of Travel                     10000 non-null  object \n",
      " 5   Class                              10000 non-null  object \n",
      " 6   Flight Distance                    10000 non-null  int64  \n",
      " 7   Inflight wifi service              10000 non-null  int64  \n",
      " 8   Departure/Arrival time convenient  10000 non-null  int64  \n",
      " 9   Ease of Online booking             10000 non-null  int64  \n",
      " 10  Gate location                      10000 non-null  int64  \n",
      " 11  Food and drink                     10000 non-null  int64  \n",
      " 12  Online boarding                    10000 non-null  int64  \n",
      " 13  Seat comfort                       10000 non-null  int64  \n",
      " 14  Inflight entertainment             10000 non-null  int64  \n",
      " 15  On-board service                   10000 non-null  int64  \n",
      " 16  Leg room service                   10000 non-null  int64  \n",
      " 17  Baggage handling                   10000 non-null  int64  \n",
      " 18  Checkin service                    10000 non-null  int64  \n",
      " 19  Inflight service                   10000 non-null  int64  \n",
      " 20  Cleanliness                        10000 non-null  int64  \n",
      " 21  Departure Delay in Minutes         10000 non-null  int64  \n",
      " 22  Arrival Delay in Minutes           9972 non-null   float64\n",
      " 23  satisfaction                       10000 non-null  int64  \n",
      "dtypes: float64(1), int64(19), object(4)\n",
      "memory usage: 1.8+ MB\n"
     ]
    }
   ],
   "source": [
    "train.info()"
   ]
  },
  {
   "cell_type": "code",
   "execution_count": 5,
   "id": "63661a93",
   "metadata": {
    "execution": {
     "iopub.execute_input": "2023-06-15T07:29:16.018673Z",
     "iopub.status.busy": "2023-06-15T07:29:16.018235Z",
     "iopub.status.idle": "2023-06-15T07:29:16.103058Z",
     "shell.execute_reply": "2023-06-15T07:29:16.102177Z"
    },
    "papermill": {
     "duration": 0.100549,
     "end_time": "2023-06-15T07:29:16.105597",
     "exception": false,
     "start_time": "2023-06-15T07:29:16.005048",
     "status": "completed"
    },
    "tags": []
   },
   "outputs": [
    {
     "data": {
      "text/html": [
       "<div>\n",
       "<style scoped>\n",
       "    .dataframe tbody tr th:only-of-type {\n",
       "        vertical-align: middle;\n",
       "    }\n",
       "\n",
       "    .dataframe tbody tr th {\n",
       "        vertical-align: top;\n",
       "    }\n",
       "\n",
       "    .dataframe thead th {\n",
       "        text-align: right;\n",
       "    }\n",
       "</style>\n",
       "<table border=\"1\" class=\"dataframe\">\n",
       "  <thead>\n",
       "    <tr style=\"text-align: right;\">\n",
       "      <th></th>\n",
       "      <th>id</th>\n",
       "      <th>Age</th>\n",
       "      <th>Flight Distance</th>\n",
       "      <th>Inflight wifi service</th>\n",
       "      <th>Departure/Arrival time convenient</th>\n",
       "      <th>Ease of Online booking</th>\n",
       "      <th>Gate location</th>\n",
       "      <th>Food and drink</th>\n",
       "      <th>Online boarding</th>\n",
       "      <th>Seat comfort</th>\n",
       "      <th>Inflight entertainment</th>\n",
       "      <th>On-board service</th>\n",
       "      <th>Leg room service</th>\n",
       "      <th>Baggage handling</th>\n",
       "      <th>Checkin service</th>\n",
       "      <th>Inflight service</th>\n",
       "      <th>Cleanliness</th>\n",
       "      <th>Departure Delay in Minutes</th>\n",
       "      <th>Arrival Delay in Minutes</th>\n",
       "      <th>satisfaction</th>\n",
       "    </tr>\n",
       "  </thead>\n",
       "  <tbody>\n",
       "    <tr>\n",
       "      <th>count</th>\n",
       "      <td>10000.00000</td>\n",
       "      <td>10000.000000</td>\n",
       "      <td>10000.000000</td>\n",
       "      <td>10000.000000</td>\n",
       "      <td>10000.000000</td>\n",
       "      <td>10000.000000</td>\n",
       "      <td>10000.000000</td>\n",
       "      <td>10000.000000</td>\n",
       "      <td>10000.000000</td>\n",
       "      <td>10000.00000</td>\n",
       "      <td>10000.000000</td>\n",
       "      <td>10000.000000</td>\n",
       "      <td>10000.000000</td>\n",
       "      <td>10000.000000</td>\n",
       "      <td>10000.000000</td>\n",
       "      <td>10000.000000</td>\n",
       "      <td>10000.000000</td>\n",
       "      <td>10000.000000</td>\n",
       "      <td>9972.000000</td>\n",
       "      <td>10000.000000</td>\n",
       "    </tr>\n",
       "    <tr>\n",
       "      <th>mean</th>\n",
       "      <td>5000.50000</td>\n",
       "      <td>39.375100</td>\n",
       "      <td>1229.556200</td>\n",
       "      <td>2.780200</td>\n",
       "      <td>3.065100</td>\n",
       "      <td>2.797800</td>\n",
       "      <td>2.981000</td>\n",
       "      <td>3.214500</td>\n",
       "      <td>3.349100</td>\n",
       "      <td>3.49140</td>\n",
       "      <td>3.402900</td>\n",
       "      <td>3.454100</td>\n",
       "      <td>3.415700</td>\n",
       "      <td>3.676200</td>\n",
       "      <td>3.360600</td>\n",
       "      <td>3.680100</td>\n",
       "      <td>3.311100</td>\n",
       "      <td>14.429900</td>\n",
       "      <td>14.709888</td>\n",
       "      <td>0.500000</td>\n",
       "    </tr>\n",
       "    <tr>\n",
       "      <th>std</th>\n",
       "      <td>2886.89568</td>\n",
       "      <td>14.897959</td>\n",
       "      <td>1022.281958</td>\n",
       "      <td>1.362745</td>\n",
       "      <td>1.527316</td>\n",
       "      <td>1.421168</td>\n",
       "      <td>1.283278</td>\n",
       "      <td>1.333217</td>\n",
       "      <td>1.352779</td>\n",
       "      <td>1.31122</td>\n",
       "      <td>1.331822</td>\n",
       "      <td>1.274777</td>\n",
       "      <td>1.308765</td>\n",
       "      <td>1.189746</td>\n",
       "      <td>1.258462</td>\n",
       "      <td>1.175118</td>\n",
       "      <td>1.311217</td>\n",
       "      <td>39.659674</td>\n",
       "      <td>40.046355</td>\n",
       "      <td>0.500025</td>\n",
       "    </tr>\n",
       "    <tr>\n",
       "      <th>min</th>\n",
       "      <td>1.00000</td>\n",
       "      <td>7.000000</td>\n",
       "      <td>31.000000</td>\n",
       "      <td>0.000000</td>\n",
       "      <td>0.000000</td>\n",
       "      <td>0.000000</td>\n",
       "      <td>1.000000</td>\n",
       "      <td>0.000000</td>\n",
       "      <td>0.000000</td>\n",
       "      <td>0.00000</td>\n",
       "      <td>0.000000</td>\n",
       "      <td>1.000000</td>\n",
       "      <td>0.000000</td>\n",
       "      <td>1.000000</td>\n",
       "      <td>0.000000</td>\n",
       "      <td>1.000000</td>\n",
       "      <td>0.000000</td>\n",
       "      <td>0.000000</td>\n",
       "      <td>0.000000</td>\n",
       "      <td>0.000000</td>\n",
       "    </tr>\n",
       "    <tr>\n",
       "      <th>25%</th>\n",
       "      <td>2500.75000</td>\n",
       "      <td>27.000000</td>\n",
       "      <td>421.000000</td>\n",
       "      <td>2.000000</td>\n",
       "      <td>2.000000</td>\n",
       "      <td>2.000000</td>\n",
       "      <td>2.000000</td>\n",
       "      <td>2.000000</td>\n",
       "      <td>2.000000</td>\n",
       "      <td>3.00000</td>\n",
       "      <td>2.000000</td>\n",
       "      <td>3.000000</td>\n",
       "      <td>2.000000</td>\n",
       "      <td>3.000000</td>\n",
       "      <td>3.000000</td>\n",
       "      <td>3.000000</td>\n",
       "      <td>2.000000</td>\n",
       "      <td>0.000000</td>\n",
       "      <td>0.000000</td>\n",
       "      <td>0.000000</td>\n",
       "    </tr>\n",
       "    <tr>\n",
       "      <th>50%</th>\n",
       "      <td>5000.50000</td>\n",
       "      <td>40.000000</td>\n",
       "      <td>863.500000</td>\n",
       "      <td>3.000000</td>\n",
       "      <td>3.000000</td>\n",
       "      <td>3.000000</td>\n",
       "      <td>3.000000</td>\n",
       "      <td>3.000000</td>\n",
       "      <td>4.000000</td>\n",
       "      <td>4.00000</td>\n",
       "      <td>4.000000</td>\n",
       "      <td>4.000000</td>\n",
       "      <td>4.000000</td>\n",
       "      <td>4.000000</td>\n",
       "      <td>3.000000</td>\n",
       "      <td>4.000000</td>\n",
       "      <td>3.000000</td>\n",
       "      <td>0.000000</td>\n",
       "      <td>0.000000</td>\n",
       "      <td>0.500000</td>\n",
       "    </tr>\n",
       "    <tr>\n",
       "      <th>75%</th>\n",
       "      <td>7500.25000</td>\n",
       "      <td>51.000000</td>\n",
       "      <td>1806.750000</td>\n",
       "      <td>4.000000</td>\n",
       "      <td>4.000000</td>\n",
       "      <td>4.000000</td>\n",
       "      <td>4.000000</td>\n",
       "      <td>4.000000</td>\n",
       "      <td>4.000000</td>\n",
       "      <td>5.00000</td>\n",
       "      <td>5.000000</td>\n",
       "      <td>4.000000</td>\n",
       "      <td>5.000000</td>\n",
       "      <td>5.000000</td>\n",
       "      <td>4.000000</td>\n",
       "      <td>5.000000</td>\n",
       "      <td>4.000000</td>\n",
       "      <td>12.000000</td>\n",
       "      <td>12.000000</td>\n",
       "      <td>1.000000</td>\n",
       "    </tr>\n",
       "    <tr>\n",
       "      <th>max</th>\n",
       "      <td>10000.00000</td>\n",
       "      <td>80.000000</td>\n",
       "      <td>4983.000000</td>\n",
       "      <td>5.000000</td>\n",
       "      <td>5.000000</td>\n",
       "      <td>5.000000</td>\n",
       "      <td>5.000000</td>\n",
       "      <td>5.000000</td>\n",
       "      <td>5.000000</td>\n",
       "      <td>5.00000</td>\n",
       "      <td>5.000000</td>\n",
       "      <td>5.000000</td>\n",
       "      <td>5.000000</td>\n",
       "      <td>5.000000</td>\n",
       "      <td>5.000000</td>\n",
       "      <td>5.000000</td>\n",
       "      <td>5.000000</td>\n",
       "      <td>921.000000</td>\n",
       "      <td>924.000000</td>\n",
       "      <td>1.000000</td>\n",
       "    </tr>\n",
       "  </tbody>\n",
       "</table>\n",
       "</div>"
      ],
      "text/plain": [
       "                id           Age  Flight Distance  Inflight wifi service  \\\n",
       "count  10000.00000  10000.000000     10000.000000           10000.000000   \n",
       "mean    5000.50000     39.375100      1229.556200               2.780200   \n",
       "std     2886.89568     14.897959      1022.281958               1.362745   \n",
       "min        1.00000      7.000000        31.000000               0.000000   \n",
       "25%     2500.75000     27.000000       421.000000               2.000000   \n",
       "50%     5000.50000     40.000000       863.500000               3.000000   \n",
       "75%     7500.25000     51.000000      1806.750000               4.000000   \n",
       "max    10000.00000     80.000000      4983.000000               5.000000   \n",
       "\n",
       "       Departure/Arrival time convenient  Ease of Online booking  \\\n",
       "count                       10000.000000            10000.000000   \n",
       "mean                            3.065100                2.797800   \n",
       "std                             1.527316                1.421168   \n",
       "min                             0.000000                0.000000   \n",
       "25%                             2.000000                2.000000   \n",
       "50%                             3.000000                3.000000   \n",
       "75%                             4.000000                4.000000   \n",
       "max                             5.000000                5.000000   \n",
       "\n",
       "       Gate location  Food and drink  Online boarding  Seat comfort  \\\n",
       "count   10000.000000    10000.000000     10000.000000   10000.00000   \n",
       "mean        2.981000        3.214500         3.349100       3.49140   \n",
       "std         1.283278        1.333217         1.352779       1.31122   \n",
       "min         1.000000        0.000000         0.000000       0.00000   \n",
       "25%         2.000000        2.000000         2.000000       3.00000   \n",
       "50%         3.000000        3.000000         4.000000       4.00000   \n",
       "75%         4.000000        4.000000         4.000000       5.00000   \n",
       "max         5.000000        5.000000         5.000000       5.00000   \n",
       "\n",
       "       Inflight entertainment  On-board service  Leg room service  \\\n",
       "count            10000.000000      10000.000000      10000.000000   \n",
       "mean                 3.402900          3.454100          3.415700   \n",
       "std                  1.331822          1.274777          1.308765   \n",
       "min                  0.000000          1.000000          0.000000   \n",
       "25%                  2.000000          3.000000          2.000000   \n",
       "50%                  4.000000          4.000000          4.000000   \n",
       "75%                  5.000000          4.000000          5.000000   \n",
       "max                  5.000000          5.000000          5.000000   \n",
       "\n",
       "       Baggage handling  Checkin service  Inflight service   Cleanliness  \\\n",
       "count      10000.000000     10000.000000      10000.000000  10000.000000   \n",
       "mean           3.676200         3.360600          3.680100      3.311100   \n",
       "std            1.189746         1.258462          1.175118      1.311217   \n",
       "min            1.000000         0.000000          1.000000      0.000000   \n",
       "25%            3.000000         3.000000          3.000000      2.000000   \n",
       "50%            4.000000         3.000000          4.000000      3.000000   \n",
       "75%            5.000000         4.000000          5.000000      4.000000   \n",
       "max            5.000000         5.000000          5.000000      5.000000   \n",
       "\n",
       "       Departure Delay in Minutes  Arrival Delay in Minutes  satisfaction  \n",
       "count                10000.000000               9972.000000  10000.000000  \n",
       "mean                    14.429900                 14.709888      0.500000  \n",
       "std                     39.659674                 40.046355      0.500025  \n",
       "min                      0.000000                  0.000000      0.000000  \n",
       "25%                      0.000000                  0.000000      0.000000  \n",
       "50%                      0.000000                  0.000000      0.500000  \n",
       "75%                     12.000000                 12.000000      1.000000  \n",
       "max                    921.000000                924.000000      1.000000  "
      ]
     },
     "execution_count": 5,
     "metadata": {},
     "output_type": "execute_result"
    }
   ],
   "source": [
    "train.describe()"
   ]
  },
  {
   "cell_type": "code",
   "execution_count": 6,
   "id": "6100715f",
   "metadata": {
    "execution": {
     "iopub.execute_input": "2023-06-15T07:29:16.131296Z",
     "iopub.status.busy": "2023-06-15T07:29:16.130889Z",
     "iopub.status.idle": "2023-06-15T07:29:16.153215Z",
     "shell.execute_reply": "2023-06-15T07:29:16.152344Z"
    },
    "papermill": {
     "duration": 0.037901,
     "end_time": "2023-06-15T07:29:16.155419",
     "exception": false,
     "start_time": "2023-06-15T07:29:16.117518",
     "status": "completed"
    },
    "tags": []
   },
   "outputs": [
    {
     "data": {
      "text/plain": [
       "id                                    0\n",
       "Gender                                0\n",
       "Customer Type                         0\n",
       "Age                                   0\n",
       "Type of Travel                        0\n",
       "Class                                 0\n",
       "Flight Distance                       0\n",
       "Inflight wifi service                 0\n",
       "Departure/Arrival time convenient     0\n",
       "Ease of Online booking                0\n",
       "Gate location                         0\n",
       "Food and drink                        0\n",
       "Online boarding                       0\n",
       "Seat comfort                          0\n",
       "Inflight entertainment                0\n",
       "On-board service                      0\n",
       "Leg room service                      0\n",
       "Baggage handling                      0\n",
       "Checkin service                       0\n",
       "Inflight service                      0\n",
       "Cleanliness                           0\n",
       "Departure Delay in Minutes            0\n",
       "Arrival Delay in Minutes             28\n",
       "satisfaction                          0\n",
       "dtype: int64"
      ]
     },
     "execution_count": 6,
     "metadata": {},
     "output_type": "execute_result"
    }
   ],
   "source": [
    "train.isnull().sum()"
   ]
  },
  {
   "cell_type": "code",
   "execution_count": 7,
   "id": "dadce47c",
   "metadata": {
    "execution": {
     "iopub.execute_input": "2023-06-15T07:29:16.181578Z",
     "iopub.status.busy": "2023-06-15T07:29:16.181154Z",
     "iopub.status.idle": "2023-06-15T07:29:16.188540Z",
     "shell.execute_reply": "2023-06-15T07:29:16.187031Z"
    },
    "papermill": {
     "duration": 0.023296,
     "end_time": "2023-06-15T07:29:16.190999",
     "exception": false,
     "start_time": "2023-06-15T07:29:16.167703",
     "status": "completed"
    },
    "tags": []
   },
   "outputs": [],
   "source": [
    "train['Arrival Delay in Minutes'].fillna(train['Departure Delay in Minutes'],inplace=True)"
   ]
  },
  {
   "cell_type": "markdown",
   "id": "6cc65695",
   "metadata": {
    "papermill": {
     "duration": 0.011784,
     "end_time": "2023-06-15T07:29:16.214948",
     "exception": false,
     "start_time": "2023-06-15T07:29:16.203164",
     "status": "completed"
    },
    "tags": []
   },
   "source": [
    "# Vizulation"
   ]
  },
  {
   "cell_type": "code",
   "execution_count": 8,
   "id": "5df02a84",
   "metadata": {
    "execution": {
     "iopub.execute_input": "2023-06-15T07:29:16.240764Z",
     "iopub.status.busy": "2023-06-15T07:29:16.240346Z",
     "iopub.status.idle": "2023-06-15T07:29:16.488652Z",
     "shell.execute_reply": "2023-06-15T07:29:16.487400Z"
    },
    "papermill": {
     "duration": 0.264371,
     "end_time": "2023-06-15T07:29:16.491262",
     "exception": false,
     "start_time": "2023-06-15T07:29:16.226891",
     "status": "completed"
    },
    "tags": []
   },
   "outputs": [
    {
     "data": {
      "image/png": "[encoded data removed]",
      "text/plain": [
       "<Figure size 800x500 with 1 Axes>"
      ]
     },
     "metadata": {},
     "output_type": "display_data"
    }
   ],
   "source": [
    "plt.figure(figsize=(8,5))\n",
    "sns.countplot(x='Gender',data= train)\n",
    "plt.show()"
   ]
  },
  {
   "cell_type": "code",
   "execution_count": 9,
   "id": "777e6a9e",
   "metadata": {
    "execution": {
     "iopub.execute_input": "2023-06-15T07:29:16.518144Z",
     "iopub.status.busy": "2023-06-15T07:29:16.517754Z",
     "iopub.status.idle": "2023-06-15T07:29:17.322153Z",
     "shell.execute_reply": "2023-06-15T07:29:17.321237Z"
    },
    "papermill": {
     "duration": 0.822116,
     "end_time": "2023-06-15T07:29:17.325794",
     "exception": false,
     "start_time": "2023-06-15T07:29:16.503678",
     "status": "completed"
    },
    "tags": []
   },
   "outputs": [
    {
     "data": {
      "image/png": "[encoded data removed]",
      "text/plain": [
       "<Figure size 1600x400 with 4 Axes>"
      ]
     },
     "metadata": {},
     "output_type": "display_data"
    }
   ],
   "source": [
    "\n",
    "fig, axes = plt.subplots(1,4, figsize=(16,4))\n",
    "\n",
    "sns.countplot(x='Gender', hue='satisfaction', palette='viridis', data=train, ax=axes[0])\n",
    "\n",
    "sns.countplot(x='Customer Type', hue='satisfaction', palette='viridis', data=train, ax=axes[1])\n",
    "\n",
    "sns.countplot(x='Type of Travel', hue='satisfaction', palette='viridis', data=train, ax=axes[2])\n",
    "\n",
    "sns.countplot(x='Class', hue='satisfaction', palette='viridis', data=train, ax=axes[3])\n",
    "\n",
    "plt.show()"
   ]
  },
  {
   "cell_type": "code",
   "execution_count": 10,
   "id": "3039d638",
   "metadata": {
    "execution": {
     "iopub.execute_input": "2023-06-15T07:29:17.354787Z",
     "iopub.status.busy": "2023-06-15T07:29:17.354399Z",
     "iopub.status.idle": "2023-06-15T07:29:17.369503Z",
     "shell.execute_reply": "2023-06-15T07:29:17.368331Z"
    },
    "papermill": {
     "duration": 0.032315,
     "end_time": "2023-06-15T07:29:17.371943",
     "exception": false,
     "start_time": "2023-06-15T07:29:17.339628",
     "status": "completed"
    },
    "tags": []
   },
   "outputs": [
    {
     "data": {
      "text/plain": [
       "id                                    0\n",
       "Gender                                0\n",
       "Customer Type                         0\n",
       "Age                                   0\n",
       "Type of Travel                        0\n",
       "Class                                 0\n",
       "Flight Distance                       0\n",
       "Inflight wifi service                 0\n",
       "Departure/Arrival time convenient     0\n",
       "Ease of Online booking                0\n",
       "Gate location                         0\n",
       "Food and drink                        0\n",
       "Online boarding                       0\n",
       "Seat comfort                          0\n",
       "Inflight entertainment                0\n",
       "On-board service                      0\n",
       "Leg room service                      0\n",
       "Baggage handling                      0\n",
       "Checkin service                       0\n",
       "Inflight service                      0\n",
       "Cleanliness                           0\n",
       "Departure Delay in Minutes            0\n",
       "Arrival Delay in Minutes             19\n",
       "dtype: int64"
      ]
     },
     "execution_count": 10,
     "metadata": {},
     "output_type": "execute_result"
    }
   ],
   "source": [
    "test.isnull().sum()"
   ]
  },
  {
   "cell_type": "code",
   "execution_count": 11,
   "id": "8e5e08bf",
   "metadata": {
    "execution": {
     "iopub.execute_input": "2023-06-15T07:29:17.401034Z",
     "iopub.status.busy": "2023-06-15T07:29:17.399971Z",
     "iopub.status.idle": "2023-06-15T07:29:17.406686Z",
     "shell.execute_reply": "2023-06-15T07:29:17.405581Z"
    },
    "papermill": {
     "duration": 0.024054,
     "end_time": "2023-06-15T07:29:17.409466",
     "exception": false,
     "start_time": "2023-06-15T07:29:17.385412",
     "status": "completed"
    },
    "tags": []
   },
   "outputs": [],
   "source": [
    "test['Arrival Delay in Minutes'].fillna(test['Departure Delay in Minutes'],inplace=True)"
   ]
  },
  {
   "cell_type": "code",
   "execution_count": 12,
   "id": "6d1de9a8",
   "metadata": {
    "execution": {
     "iopub.execute_input": "2023-06-15T07:29:17.438156Z",
     "iopub.status.busy": "2023-06-15T07:29:17.437766Z",
     "iopub.status.idle": "2023-06-15T07:29:17.458279Z",
     "shell.execute_reply": "2023-06-15T07:29:17.457183Z"
    },
    "papermill": {
     "duration": 0.037641,
     "end_time": "2023-06-15T07:29:17.460580",
     "exception": false,
     "start_time": "2023-06-15T07:29:17.422939",
     "status": "completed"
    },
    "tags": []
   },
   "outputs": [
    {
     "name": "stderr",
     "output_type": "stream",
     "text": [
      "/tmp/ipykernel_20/2080983504.py:1: FutureWarning: The default value of numeric_only in DataFrame.corrwith is deprecated. In a future version, it will default to False. Select only valid columns or specify the value of numeric_only to silence this warning.\n",
      "  train.corrwith(train['satisfaction']).abs().sort_values(ascending=False)\n"
     ]
    },
    {
     "data": {
      "text/plain": [
       "satisfaction                         1.000000\n",
       "Online boarding                      0.504986\n",
       "Inflight entertainment               0.400900\n",
       "Seat comfort                         0.342294\n",
       "On-board service                     0.326426\n",
       "Leg room service                     0.324368\n",
       "Cleanliness                          0.310338\n",
       "Flight Distance                      0.298703\n",
       "Inflight wifi service                0.277395\n",
       "Baggage handling                     0.247965\n",
       "Inflight service                     0.240584\n",
       "Checkin service                      0.232359\n",
       "Food and drink                       0.207854\n",
       "Ease of Online booking               0.164662\n",
       "Age                                  0.144302\n",
       "Departure/Arrival time convenient    0.067638\n",
       "Arrival Delay in Minutes             0.048134\n",
       "Departure Delay in Minutes           0.042960\n",
       "Gate location                        0.007169\n",
       "id                                   0.002931\n",
       "dtype: float64"
      ]
     },
     "execution_count": 12,
     "metadata": {},
     "output_type": "execute_result"
    }
   ],
   "source": [
    "train.corrwith(train['satisfaction']).abs().sort_values(ascending=False)"
   ]
  },
  {
   "cell_type": "code",
   "execution_count": 13,
   "id": "aba92738",
   "metadata": {
    "execution": {
     "iopub.execute_input": "2023-06-15T07:29:17.490279Z",
     "iopub.status.busy": "2023-06-15T07:29:17.489619Z",
     "iopub.status.idle": "2023-06-15T07:29:17.497948Z",
     "shell.execute_reply": "2023-06-15T07:29:17.496700Z"
    },
    "papermill": {
     "duration": 0.026078,
     "end_time": "2023-06-15T07:29:17.500565",
     "exception": false,
     "start_time": "2023-06-15T07:29:17.474487",
     "status": "completed"
    },
    "tags": []
   },
   "outputs": [],
   "source": [
    "train.drop('id',axis=1,inplace=True)\n",
    "test.drop('id',axis=1,inplace=True)"
   ]
  },
  {
   "cell_type": "code",
   "execution_count": 14,
   "id": "75cfce3b",
   "metadata": {
    "execution": {
     "iopub.execute_input": "2023-06-15T07:29:17.529614Z",
     "iopub.status.busy": "2023-06-15T07:29:17.529151Z",
     "iopub.status.idle": "2023-06-15T07:29:17.537205Z",
     "shell.execute_reply": "2023-06-15T07:29:17.536024Z"
    },
    "papermill": {
     "duration": 0.02525,
     "end_time": "2023-06-15T07:29:17.539619",
     "exception": false,
     "start_time": "2023-06-15T07:29:17.514369",
     "status": "completed"
    },
    "tags": []
   },
   "outputs": [
    {
     "data": {
      "text/plain": [
       "Index(['Gender', 'Customer Type', 'Age', 'Type of Travel', 'Class',\n",
       "       'Flight Distance', 'Inflight wifi service',\n",
       "       'Departure/Arrival time convenient', 'Ease of Online booking',\n",
       "       'Gate location', 'Food and drink', 'Online boarding', 'Seat comfort',\n",
       "       'Inflight entertainment', 'On-board service', 'Leg room service',\n",
       "       'Baggage handling', 'Checkin service', 'Inflight service',\n",
       "       'Cleanliness', 'Departure Delay in Minutes', 'Arrival Delay in Minutes',\n",
       "       'satisfaction'],\n",
       "      dtype='object')"
      ]
     },
     "execution_count": 14,
     "metadata": {},
     "output_type": "execute_result"
    }
   ],
   "source": [
    "train.columns"
   ]
  },
  {
   "cell_type": "markdown",
   "id": "272e3a4d",
   "metadata": {
    "papermill": {
     "duration": 0.013662,
     "end_time": "2023-06-15T07:29:17.567225",
     "exception": false,
     "start_time": "2023-06-15T07:29:17.553563",
     "status": "completed"
    },
    "tags": []
   },
   "source": [
    "# Machine Learning"
   ]
  },
  {
   "cell_type": "code",
   "execution_count": 15,
   "id": "13183423",
   "metadata": {
    "execution": {
     "iopub.execute_input": "2023-06-15T07:29:17.597848Z",
     "iopub.status.busy": "2023-06-15T07:29:17.597154Z",
     "iopub.status.idle": "2023-06-15T07:29:17.604090Z",
     "shell.execute_reply": "2023-06-15T07:29:17.603285Z"
    },
    "papermill": {
     "duration": 0.02555,
     "end_time": "2023-06-15T07:29:17.606609",
     "exception": false,
     "start_time": "2023-06-15T07:29:17.581059",
     "status": "completed"
    },
    "tags": []
   },
   "outputs": [],
   "source": [
    "X=train.drop('satisfaction',axis=1)\n",
    "y=train['satisfaction']"
   ]
  },
  {
   "cell_type": "markdown",
   "id": "bcc76580",
   "metadata": {
    "papermill": {
     "duration": 0.013403,
     "end_time": "2023-06-15T07:29:17.633698",
     "exception": false,
     "start_time": "2023-06-15T07:29:17.620295",
     "status": "completed"
    },
    "tags": []
   },
   "source": [
    "# Full Pipline"
   ]
  },
  {
   "cell_type": "code",
   "execution_count": 16,
   "id": "cd4beabf",
   "metadata": {
    "execution": {
     "iopub.execute_input": "2023-06-15T07:29:17.663389Z",
     "iopub.status.busy": "2023-06-15T07:29:17.662973Z",
     "iopub.status.idle": "2023-06-15T07:29:17.669445Z",
     "shell.execute_reply": "2023-06-15T07:29:17.668283Z"
    },
    "papermill": {
     "duration": 0.024267,
     "end_time": "2023-06-15T07:29:17.671839",
     "exception": false,
     "start_time": "2023-06-15T07:29:17.647572",
     "status": "completed"
    },
    "tags": []
   },
   "outputs": [],
   "source": [
    "cat_attr=[ 'Gender','Customer Type','Type of Travel', 'Class']\n",
    "num_attr=[ 'Flight Distance', 'Inflight wifi service',\n",
    "       'Departure/Arrival time convenient', 'Ease of Online booking',\n",
    "        'Food and drink', 'Online boarding', 'Seat comfort',\n",
    "       'Inflight entertainment', 'On-board service', 'Leg room service',\n",
    "       'Baggage handling', 'Checkin service', 'Inflight service',\n",
    "       'Cleanliness', 'Departure Delay in Minutes', 'Arrival Delay in Minutes']\n",
    "\n",
    "full_pip=ColumnTransformer([\n",
    "    ('num',StandardScaler(),num_attr),\n",
    "    ('cat',OrdinalEncoder(),cat_attr)\n",
    "])"
   ]
  },
  {
   "cell_type": "code",
   "execution_count": 17,
   "id": "08f70188",
   "metadata": {
    "execution": {
     "iopub.execute_input": "2023-06-15T07:29:17.701131Z",
     "iopub.status.busy": "2023-06-15T07:29:17.700507Z",
     "iopub.status.idle": "2023-06-15T07:29:17.734230Z",
     "shell.execute_reply": "2023-06-15T07:29:17.733038Z"
    },
    "papermill": {
     "duration": 0.051543,
     "end_time": "2023-06-15T07:29:17.737018",
     "exception": false,
     "start_time": "2023-06-15T07:29:17.685475",
     "status": "completed"
    },
    "tags": []
   },
   "outputs": [],
   "source": [
    "x=full_pip.fit_transform(X)"
   ]
  },
  {
   "cell_type": "code",
   "execution_count": 18,
   "id": "aaa6713b",
   "metadata": {
    "execution": {
     "iopub.execute_input": "2023-06-15T07:29:17.767391Z",
     "iopub.status.busy": "2023-06-15T07:29:17.766930Z",
     "iopub.status.idle": "2023-06-15T07:29:17.775043Z",
     "shell.execute_reply": "2023-06-15T07:29:17.773796Z"
    },
    "papermill": {
     "duration": 0.025826,
     "end_time": "2023-06-15T07:29:17.777419",
     "exception": false,
     "start_time": "2023-06-15T07:29:17.751593",
     "status": "completed"
    },
    "tags": []
   },
   "outputs": [],
   "source": [
    "x_train,x_val,y_train,y_val=train_test_split(x,y,test_size=0.2,random_state=27)"
   ]
  },
  {
   "cell_type": "markdown",
   "id": "ea38acb1",
   "metadata": {
    "papermill": {
     "duration": 0.013276,
     "end_time": "2023-06-15T07:29:17.804420",
     "exception": false,
     "start_time": "2023-06-15T07:29:17.791144",
     "status": "completed"
    },
    "tags": []
   },
   "source": [
    "# Logistik Regrission"
   ]
  },
  {
   "cell_type": "code",
   "execution_count": 19,
   "id": "33d97754",
   "metadata": {
    "execution": {
     "iopub.execute_input": "2023-06-15T07:29:17.834079Z",
     "iopub.status.busy": "2023-06-15T07:29:17.833339Z",
     "iopub.status.idle": "2023-06-15T07:29:18.523733Z",
     "shell.execute_reply": "2023-06-15T07:29:18.522635Z"
    },
    "papermill": {
     "duration": 0.708819,
     "end_time": "2023-06-15T07:29:18.526814",
     "exception": false,
     "start_time": "2023-06-15T07:29:17.817995",
     "status": "completed"
    },
    "tags": []
   },
   "outputs": [
    {
     "name": "stdout",
     "output_type": "stream",
     "text": [
      "              precision    recall  f1-score   support\n",
      "\n",
      "           0       0.84      0.89      0.86       987\n",
      "           1       0.89      0.83      0.86      1013\n",
      "\n",
      "    accuracy                           0.86      2000\n",
      "   macro avg       0.86      0.86      0.86      2000\n",
      "weighted avg       0.86      0.86      0.86      2000\n",
      "\n",
      "Model aniqligi:, ac_lr=0.8605\n"
     ]
    },
    {
     "data": {
      "image/png": "[encoded data removed]",
      "text/plain": [
       "<Figure size 640x480 with 2 Axes>"
      ]
     },
     "metadata": {},
     "output_type": "display_data"
    },
    {
     "data": {
      "image/png": "[encoded data removed]",
      "text/plain": [
       "<Figure size 640x480 with 1 Axes>"
      ]
     },
     "metadata": {},
     "output_type": "display_data"
    }
   ],
   "source": [
    "LR_model = LogisticRegression()\n",
    "LR_model.fit(x_train, y_train)\n",
    "\n",
    "# Modelni baholaymiz\n",
    "y_pred = LR_model.predict(x_val)\n",
    "print(metrics.classification_report(y_val, y_pred))\n",
    "ac_lr=metrics.accuracy_score(y_val,y_pred)\n",
    "print(f\"Model aniqligi:, ac_lr={metrics.accuracy_score(y_val,y_pred)}\")\n",
    "\n",
    "## confusion matrix\n",
    "conf_mat = metrics.confusion_matrix(y_val, y_pred)\n",
    "sns.heatmap(conf_mat, annot=True,fmt=\"g\")\n",
    "plt.show()\n",
    "\n",
    "## ROC curve\n",
    "fpr, tpr, thresholds = metrics.roc_curve(y_val, y_pred)\n",
    "roc_auc = metrics.auc(fpr, tpr)\n",
    "display = metrics.RocCurveDisplay(fpr=fpr, tpr=tpr, roc_auc=roc_auc, estimator_name='ROC curve')\n",
    "display.plot()\n",
    "plt.show()\n"
   ]
  },
  {
   "cell_type": "markdown",
   "id": "389c1760",
   "metadata": {
    "papermill": {
     "duration": 0.014244,
     "end_time": "2023-06-15T07:29:18.557025",
     "exception": false,
     "start_time": "2023-06-15T07:29:18.542781",
     "status": "completed"
    },
    "tags": []
   },
   "source": [
    "# Random Forest "
   ]
  },
  {
   "cell_type": "code",
   "execution_count": 20,
   "id": "b7ed6452",
   "metadata": {
    "execution": {
     "iopub.execute_input": "2023-06-15T07:29:18.588134Z",
     "iopub.status.busy": "2023-06-15T07:29:18.587684Z",
     "iopub.status.idle": "2023-06-15T07:29:19.622719Z",
     "shell.execute_reply": "2023-06-15T07:29:19.621425Z"
    },
    "papermill": {
     "duration": 1.054063,
     "end_time": "2023-06-15T07:29:19.625717",
     "exception": false,
     "start_time": "2023-06-15T07:29:18.571654",
     "status": "completed"
    },
    "tags": []
   },
   "outputs": [
    {
     "name": "stdout",
     "output_type": "stream",
     "text": [
      "              precision    recall  f1-score   support\n",
      "\n",
      "           0       0.93      0.96      0.94       987\n",
      "           1       0.96      0.93      0.94      1013\n",
      "\n",
      "    accuracy                           0.94      2000\n",
      "   macro avg       0.94      0.94      0.94      2000\n",
      "weighted avg       0.94      0.94      0.94      2000\n",
      "\n",
      "Model aniqligi:, ac_rf=0.9405\n"
     ]
    },
    {
     "data": {
      "image/png": "[encoded data removed]",
      "text/plain": [
       "<Figure size 640x480 with 2 Axes>"
      ]
     },
     "metadata": {},
     "output_type": "display_data"
    },
    {
     "data": {
      "image/png": "[encoded data removed]",
      "text/plain": [
       "<Figure size 640x480 with 1 Axes>"
      ]
     },
     "metadata": {},
     "output_type": "display_data"
    }
   ],
   "source": [
    "RF_model = RandomForestClassifier(n_estimators=23)\n",
    "RF_model.fit(x_train, y_train)\n",
    "\n",
    "# Modelni baholaymiz\n",
    "y_pred = RF_model.predict(x_val)\n",
    "print(classification_report(y_val, y_pred))\n",
    "ac_rf=metrics.accuracy_score(y_val,y_pred)\n",
    "print(f\"Model aniqligi:, ac_rf={metrics.accuracy_score(y_val,y_pred)}\")\n",
    "\n",
    "## confusion matrix\n",
    "conf_mat = metrics.confusion_matrix(y_val, y_pred)\n",
    "sns.heatmap(conf_mat, annot=True,fmt=\"g\")\n",
    "plt.show()\n",
    "\n",
    "## ROC curve\n",
    "fpr, tpr, thresholds = metrics.roc_curve(y_val, y_pred)\n",
    "roc_auc = metrics.auc(fpr, tpr)\n",
    "display = metrics.RocCurveDisplay(fpr=fpr, tpr=tpr, roc_auc=roc_auc, estimator_name='ROC curve')\n",
    "display.plot()\n",
    "plt.show()"
   ]
  },
  {
   "cell_type": "markdown",
   "id": "f551b4fe",
   "metadata": {
    "papermill": {
     "duration": 0.015346,
     "end_time": "2023-06-15T07:29:19.656845",
     "exception": false,
     "start_time": "2023-06-15T07:29:19.641499",
     "status": "completed"
    },
    "tags": []
   },
   "source": [
    "# XGBost"
   ]
  },
  {
   "cell_type": "code",
   "execution_count": 21,
   "id": "2e06c406",
   "metadata": {
    "execution": {
     "iopub.execute_input": "2023-06-15T07:29:19.691650Z",
     "iopub.status.busy": "2023-06-15T07:29:19.691190Z",
     "iopub.status.idle": "2023-06-15T07:29:20.899476Z",
     "shell.execute_reply": "2023-06-15T07:29:20.898134Z"
    },
    "papermill": {
     "duration": 1.22885,
     "end_time": "2023-06-15T07:29:20.902132",
     "exception": false,
     "start_time": "2023-06-15T07:29:19.673282",
     "status": "completed"
    },
    "tags": []
   },
   "outputs": [
    {
     "name": "stdout",
     "output_type": "stream",
     "text": [
      "              precision    recall  f1-score   support\n",
      "\n",
      "           0       0.94      0.94      0.94       987\n",
      "           1       0.95      0.94      0.94      1013\n",
      "\n",
      "    accuracy                           0.94      2000\n",
      "   macro avg       0.94      0.94      0.94      2000\n",
      "weighted avg       0.94      0.94      0.94      2000\n",
      "\n",
      "Model aniqligi:, ac_xb=0.9425\n"
     ]
    },
    {
     "data": {
      "image/png": "[encoded data removed]",
      "text/plain": [
       "<Figure size 640x480 with 2 Axes>"
      ]
     },
     "metadata": {},
     "output_type": "display_data"
    },
    {
     "data": {
      "image/png": "[encoded data removed]",
      "text/plain": [
       "<Figure size 640x480 with 1 Axes>"
      ]
     },
     "metadata": {},
     "output_type": "display_data"
    }
   ],
   "source": [
    "# Modelni yaratamiz (training)\n",
    "xgb_model = XGBClassifier()\n",
    "xgb_model.fit(x_train, y_train)\n",
    "\n",
    "\n",
    "y_pred = xgb_model.predict(x_val)\n",
    "print(classification_report(y_val, y_pred))\n",
    "ac_xb=metrics.accuracy_score(y_val,y_pred)\n",
    "print(f\"Model aniqligi:, ac_xb={metrics.accuracy_score(y_val,y_pred)}\")\n",
    "\n",
    "# confusion matrix\n",
    "conf_mat = metrics.confusion_matrix(y_val, y_pred)\n",
    "sns.heatmap(conf_mat, annot=True,fmt=\"g\")\n",
    "plt.show()\n",
    "\n",
    "# ROC curve\n",
    "fpr, tpr, thresholds = metrics.roc_curve(y_val, y_pred)\n",
    "roc_auc = metrics.auc(fpr, tpr)\n",
    "display = metrics.RocCurveDisplay(fpr=fpr, tpr=tpr, roc_auc=roc_auc, estimator_name='ROC curve')\n",
    "display.plot()\n",
    "plt.show()"
   ]
  },
  {
   "cell_type": "markdown",
   "id": "a092eaa6",
   "metadata": {
    "papermill": {
     "duration": 0.016085,
     "end_time": "2023-06-15T07:29:20.934735",
     "exception": false,
     "start_time": "2023-06-15T07:29:20.918650",
     "status": "completed"
    },
    "tags": []
   },
   "source": [
    "# Decision Tree"
   ]
  },
  {
   "cell_type": "code",
   "execution_count": 22,
   "id": "5681ba67",
   "metadata": {
    "execution": {
     "iopub.execute_input": "2023-06-15T07:29:20.969856Z",
     "iopub.status.busy": "2023-06-15T07:29:20.969439Z",
     "iopub.status.idle": "2023-06-15T07:29:21.608098Z",
     "shell.execute_reply": "2023-06-15T07:29:21.606784Z"
    },
    "papermill": {
     "duration": 0.659371,
     "end_time": "2023-06-15T07:29:21.610893",
     "exception": false,
     "start_time": "2023-06-15T07:29:20.951522",
     "status": "completed"
    },
    "tags": []
   },
   "outputs": [
    {
     "name": "stdout",
     "output_type": "stream",
     "text": [
      "              precision    recall  f1-score   support\n",
      "\n",
      "           0       0.94      0.94      0.94       987\n",
      "           1       0.95      0.94      0.94      1013\n",
      "\n",
      "    accuracy                           0.94      2000\n",
      "   macro avg       0.94      0.94      0.94      2000\n",
      "weighted avg       0.94      0.94      0.94      2000\n",
      "\n",
      "Model aniqligi:, ac_dt=0.9425\n"
     ]
    },
    {
     "data": {
      "image/png": "[encoded data removed]",
      "text/plain": [
       "<Figure size 640x480 with 2 Axes>"
      ]
     },
     "metadata": {},
     "output_type": "display_data"
    },
    {
     "data": {
      "image/png": "[encoded data removed]",
      "text/plain": [
       "<Figure size 640x480 with 1 Axes>"
      ]
     },
     "metadata": {},
     "output_type": "display_data"
    }
   ],
   "source": [
    "tree_model = DecisionTreeClassifier()\n",
    "tree_model.fit(x_train, y_train)\n",
    "\n",
    "y_pred = xgb_model.predict(x_val)\n",
    "print(classification_report(y_val, y_pred))\n",
    "ac_dt=accuracy_score(y_val,y_pred)\n",
    "print(f\"Model aniqligi:, ac_dt={accuracy_score(y_val,y_pred)}\")\n",
    "\n",
    "# confusion matrix\n",
    "conf_mat = metrics.confusion_matrix(y_val, y_pred)\n",
    "sns.heatmap(conf_mat, annot=True,fmt=\"g\")\n",
    "plt.show()\n",
    "\n",
    "# ROC curve\n",
    "fpr, tpr, thresholds = metrics.roc_curve(y_val, y_pred)\n",
    "roc_auc = metrics.auc(fpr, tpr)\n",
    "display = metrics.RocCurveDisplay(fpr=fpr, tpr=tpr, roc_auc=roc_auc, estimator_name='ROC curve')\n",
    "display.plot()\n",
    "plt.show()"
   ]
  },
  {
   "cell_type": "code",
   "execution_count": 23,
   "id": "0132f774",
   "metadata": {
    "execution": {
     "iopub.execute_input": "2023-06-15T07:29:21.648841Z",
     "iopub.status.busy": "2023-06-15T07:29:21.648418Z",
     "iopub.status.idle": "2023-06-15T07:29:21.672002Z",
     "shell.execute_reply": "2023-06-15T07:29:21.670817Z"
    },
    "papermill": {
     "duration": 0.046142,
     "end_time": "2023-06-15T07:29:21.674755",
     "exception": false,
     "start_time": "2023-06-15T07:29:21.628613",
     "status": "completed"
    },
    "tags": []
   },
   "outputs": [],
   "source": [
    "x_test=full_pip.fit_transform(test)"
   ]
  },
  {
   "cell_type": "markdown",
   "id": "c4b3a403",
   "metadata": {
    "papermill": {
     "duration": 0.016924,
     "end_time": "2023-06-15T07:29:21.708931",
     "exception": false,
     "start_time": "2023-06-15T07:29:21.692007",
     "status": "completed"
    },
    "tags": []
   },
   "source": [
    "# Result"
   ]
  },
  {
   "cell_type": "code",
   "execution_count": 24,
   "id": "5d2b0001",
   "metadata": {
    "execution": {
     "iopub.execute_input": "2023-06-15T07:29:21.745454Z",
     "iopub.status.busy": "2023-06-15T07:29:21.744474Z",
     "iopub.status.idle": "2023-06-15T07:29:21.755714Z",
     "shell.execute_reply": "2023-06-15T07:29:21.754405Z"
    },
    "papermill": {
     "duration": 0.031912,
     "end_time": "2023-06-15T07:29:21.758000",
     "exception": false,
     "start_time": "2023-06-15T07:29:21.726088",
     "status": "completed"
    },
    "tags": []
   },
   "outputs": [
    {
     "name": "stdout",
     "output_type": "stream",
     "text": [
      "                 Model  Accuracy\n",
      "2               XGBost    0.9425\n",
      "3        Decision Tree    0.9425\n",
      "1        Random Forest    0.9405\n",
      "0  Logistic Regression    0.8605\n"
     ]
    }
   ],
   "source": [
    "results = pd.DataFrame({\n",
    "    'Model': ['Logistic Regression', 'Random Forest', 'XGBost', 'Decision Tree'],\n",
    "    \n",
    "    'Accuracy': [ac_lr, ac_rf, ac_xb, ac_dt]\n",
    "   \n",
    "})\n",
    "\n",
    "results.sort_values(by='Accuracy', ascending=False, inplace=True)\n",
    "print(results)"
   ]
  },
  {
   "cell_type": "code",
   "execution_count": 25,
   "id": "1b723eec",
   "metadata": {
    "execution": {
     "iopub.execute_input": "2023-06-15T07:29:21.794860Z",
     "iopub.status.busy": "2023-06-15T07:29:21.794056Z",
     "iopub.status.idle": "2023-06-15T07:29:21.806992Z",
     "shell.execute_reply": "2023-06-15T07:29:21.804964Z"
    },
    "papermill": {
     "duration": 0.034239,
     "end_time": "2023-06-15T07:29:21.809716",
     "exception": false,
     "start_time": "2023-06-15T07:29:21.775477",
     "status": "completed"
    },
    "tags": []
   },
   "outputs": [],
   "source": [
    " test_prediction = xgb_model.predict(x_test)"
   ]
  },
  {
   "cell_type": "code",
   "execution_count": 26,
   "id": "560588f9",
   "metadata": {
    "execution": {
     "iopub.execute_input": "2023-06-15T07:29:21.848388Z",
     "iopub.status.busy": "2023-06-15T07:29:21.847190Z",
     "iopub.status.idle": "2023-06-15T07:29:21.860660Z",
     "shell.execute_reply": "2023-06-15T07:29:21.859491Z"
    },
    "papermill": {
     "duration": 0.03459,
     "end_time": "2023-06-15T07:29:21.863132",
     "exception": false,
     "start_time": "2023-06-15T07:29:21.828542",
     "status": "completed"
    },
    "tags": []
   },
   "outputs": [
    {
     "data": {
      "text/html": [
       "<div>\n",
       "<style scoped>\n",
       "    .dataframe tbody tr th:only-of-type {\n",
       "        vertical-align: middle;\n",
       "    }\n",
       "\n",
       "    .dataframe tbody tr th {\n",
       "        vertical-align: top;\n",
       "    }\n",
       "\n",
       "    .dataframe thead th {\n",
       "        text-align: right;\n",
       "    }\n",
       "</style>\n",
       "<table border=\"1\" class=\"dataframe\">\n",
       "  <thead>\n",
       "    <tr style=\"text-align: right;\">\n",
       "      <th></th>\n",
       "      <th>id</th>\n",
       "      <th>satisfaction</th>\n",
       "    </tr>\n",
       "  </thead>\n",
       "  <tbody>\n",
       "    <tr>\n",
       "      <th>0</th>\n",
       "      <td>1</td>\n",
       "      <td>0</td>\n",
       "    </tr>\n",
       "    <tr>\n",
       "      <th>1</th>\n",
       "      <td>2</td>\n",
       "      <td>1</td>\n",
       "    </tr>\n",
       "    <tr>\n",
       "      <th>2</th>\n",
       "      <td>3</td>\n",
       "      <td>1</td>\n",
       "    </tr>\n",
       "    <tr>\n",
       "      <th>3</th>\n",
       "      <td>4</td>\n",
       "      <td>1</td>\n",
       "    </tr>\n",
       "    <tr>\n",
       "      <th>4</th>\n",
       "      <td>5</td>\n",
       "      <td>0</td>\n",
       "    </tr>\n",
       "    <tr>\n",
       "      <th>...</th>\n",
       "      <td>...</td>\n",
       "      <td>...</td>\n",
       "    </tr>\n",
       "    <tr>\n",
       "      <th>3995</th>\n",
       "      <td>3996</td>\n",
       "      <td>1</td>\n",
       "    </tr>\n",
       "    <tr>\n",
       "      <th>3996</th>\n",
       "      <td>3997</td>\n",
       "      <td>0</td>\n",
       "    </tr>\n",
       "    <tr>\n",
       "      <th>3997</th>\n",
       "      <td>3998</td>\n",
       "      <td>0</td>\n",
       "    </tr>\n",
       "    <tr>\n",
       "      <th>3998</th>\n",
       "      <td>3999</td>\n",
       "      <td>1</td>\n",
       "    </tr>\n",
       "    <tr>\n",
       "      <th>3999</th>\n",
       "      <td>4000</td>\n",
       "      <td>0</td>\n",
       "    </tr>\n",
       "  </tbody>\n",
       "</table>\n",
       "<p>4000 rows × 2 columns</p>\n",
       "</div>"
      ],
      "text/plain": [
       "        id  satisfaction\n",
       "0        1             0\n",
       "1        2             1\n",
       "2        3             1\n",
       "3        4             1\n",
       "4        5             0\n",
       "...    ...           ...\n",
       "3995  3996             1\n",
       "3996  3997             0\n",
       "3997  3998             0\n",
       "3998  3999             1\n",
       "3999  4000             0\n",
       "\n",
       "[4000 rows x 2 columns]"
      ]
     },
     "execution_count": 26,
     "metadata": {},
     "output_type": "execute_result"
    }
   ],
   "source": [
    "submission['satisfaction']=test_prediction\n",
    "submission"
   ]
  },
  {
   "cell_type": "code",
   "execution_count": 27,
   "id": "171a6c07",
   "metadata": {
    "execution": {
     "iopub.execute_input": "2023-06-15T07:29:21.900523Z",
     "iopub.status.busy": "2023-06-15T07:29:21.899852Z",
     "iopub.status.idle": "2023-06-15T07:29:21.919192Z",
     "shell.execute_reply": "2023-06-15T07:29:21.918306Z"
    },
    "papermill": {
     "duration": 0.040966,
     "end_time": "2023-06-15T07:29:21.921789",
     "exception": false,
     "start_time": "2023-06-15T07:29:21.880823",
     "status": "completed"
    },
    "tags": []
   },
   "outputs": [],
   "source": [
    "submission.to_csv('result_satisfacton1.csv',index=False)"
   ]
  },
  {
   "cell_type": "code",
   "execution_count": null,
   "id": "92292c64",
   "metadata": {
    "papermill": {
     "duration": 0.017638,
     "end_time": "2023-06-15T07:29:21.957393",
     "exception": false,
     "start_time": "2023-06-15T07:29:21.939755",
     "status": "completed"
    },
    "tags": []
   },
   "outputs": [],
   "source": []
  }
 ],
 "metadata": {
  "kernelspec": {
   "display_name": "Python 3",
   "language": "python",
   "name": "python3"
  },
  "language_info": {
   "codemirror_mode": {
    "name": "ipython",
    "version": 3
   },
   "file_extension": ".py",
   "mimetype": "text/x-python",
   "name": "python",
   "nbconvert_exporter": "python",
   "pygments_lexer": "ipython3",
   "version": "3.10.10"
  },
  "papermill": {
   "default_parameters": {},
   "duration": 22.455453,
   "end_time": "2023-06-15T07:29:22.997664",
   "environment_variables": {},
   "exception": null,
   "input_path": "__notebook__.ipynb",
   "output_path": "__notebook__.ipynb",
   "parameters": {},
   "start_time": "2023-06-15T07:29:00.542211",
   "version": "2.4.0"
  }
 },
 "nbformat": 4,
 "nbformat_minor": 5
}
